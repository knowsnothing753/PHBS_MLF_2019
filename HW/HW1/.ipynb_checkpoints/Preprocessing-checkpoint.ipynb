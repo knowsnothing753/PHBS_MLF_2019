{
 "cells": [
  {
   "cell_type": "markdown",
   "metadata": {},
   "source": [
    "# HW1"
   ]
  },
  {
   "cell_type": "code",
   "execution_count": 230,
   "metadata": {},
   "outputs": [],
   "source": [
    "from scipy.io import arff\n",
    "import pandas as pd\n",
    "data = arff.loadarff('4year.arff')\n",
    "df = pd.DataFrame(data[0])\n",
    "df['bankruptcy'] = (df['class']==b'1')"
   ]
  },
  {
   "cell_type": "markdown",
   "metadata": {},
   "source": [
    "## Create a new dataframe "
   ]
  },
  {
   "cell_type": "code",
   "execution_count": 258,
   "metadata": {},
   "outputs": [
    {
     "data": {
      "text/html": [
       "<div>\n",
       "<style scoped>\n",
       "    .dataframe tbody tr th:only-of-type {\n",
       "        vertical-align: middle;\n",
       "    }\n",
       "\n",
       "    .dataframe tbody tr th {\n",
       "        vertical-align: top;\n",
       "    }\n",
       "\n",
       "    .dataframe thead th {\n",
       "        text-align: right;\n",
       "    }\n",
       "</style>\n",
       "<table border=\"1\" class=\"dataframe\">\n",
       "  <thead>\n",
       "    <tr style=\"text-align: right;\">\n",
       "      <th></th>\n",
       "      <th>X1</th>\n",
       "      <th>X2</th>\n",
       "      <th>X7</th>\n",
       "      <th>X10</th>\n",
       "      <th>bankruptcy</th>\n",
       "    </tr>\n",
       "  </thead>\n",
       "  <tbody>\n",
       "    <tr>\n",
       "      <th>0</th>\n",
       "      <td>0.159290</td>\n",
       "      <td>0.46240</td>\n",
       "      <td>0.189480</td>\n",
       "      <td>0.38330</td>\n",
       "      <td>False</td>\n",
       "    </tr>\n",
       "    <tr>\n",
       "      <th>1</th>\n",
       "      <td>-0.127430</td>\n",
       "      <td>0.46243</td>\n",
       "      <td>-0.127430</td>\n",
       "      <td>0.53757</td>\n",
       "      <td>False</td>\n",
       "    </tr>\n",
       "    <tr>\n",
       "      <th>2</th>\n",
       "      <td>0.070488</td>\n",
       "      <td>0.23570</td>\n",
       "      <td>0.086895</td>\n",
       "      <td>0.67689</td>\n",
       "      <td>False</td>\n",
       "    </tr>\n",
       "    <tr>\n",
       "      <th>3</th>\n",
       "      <td>0.136760</td>\n",
       "      <td>0.40538</td>\n",
       "      <td>0.136760</td>\n",
       "      <td>0.58938</td>\n",
       "      <td>False</td>\n",
       "    </tr>\n",
       "    <tr>\n",
       "      <th>4</th>\n",
       "      <td>-0.110080</td>\n",
       "      <td>0.69793</td>\n",
       "      <td>-0.110080</td>\n",
       "      <td>0.30207</td>\n",
       "      <td>False</td>\n",
       "    </tr>\n",
       "    <tr>\n",
       "      <th>...</th>\n",
       "      <td>...</td>\n",
       "      <td>...</td>\n",
       "      <td>...</td>\n",
       "      <td>...</td>\n",
       "      <td>...</td>\n",
       "    </tr>\n",
       "    <tr>\n",
       "      <th>9787</th>\n",
       "      <td>0.004676</td>\n",
       "      <td>0.54949</td>\n",
       "      <td>0.013002</td>\n",
       "      <td>0.43205</td>\n",
       "      <td>True</td>\n",
       "    </tr>\n",
       "    <tr>\n",
       "      <th>9788</th>\n",
       "      <td>-0.027610</td>\n",
       "      <td>0.60748</td>\n",
       "      <td>-0.027610</td>\n",
       "      <td>0.33509</td>\n",
       "      <td>True</td>\n",
       "    </tr>\n",
       "    <tr>\n",
       "      <th>9789</th>\n",
       "      <td>-0.238290</td>\n",
       "      <td>0.62708</td>\n",
       "      <td>-0.240360</td>\n",
       "      <td>0.17760</td>\n",
       "      <td>True</td>\n",
       "    </tr>\n",
       "    <tr>\n",
       "      <th>9790</th>\n",
       "      <td>0.097188</td>\n",
       "      <td>0.75300</td>\n",
       "      <td>0.104280</td>\n",
       "      <td>0.24700</td>\n",
       "      <td>True</td>\n",
       "    </tr>\n",
       "    <tr>\n",
       "      <th>9791</th>\n",
       "      <td>0.021416</td>\n",
       "      <td>0.48678</td>\n",
       "      <td>0.027253</td>\n",
       "      <td>0.51267</td>\n",
       "      <td>True</td>\n",
       "    </tr>\n",
       "  </tbody>\n",
       "</table>\n",
       "<p>9792 rows × 5 columns</p>\n",
       "</div>"
      ],
      "text/plain": [
       "            X1       X2        X7      X10  bankruptcy\n",
       "0     0.159290  0.46240  0.189480  0.38330       False\n",
       "1    -0.127430  0.46243 -0.127430  0.53757       False\n",
       "2     0.070488  0.23570  0.086895  0.67689       False\n",
       "3     0.136760  0.40538  0.136760  0.58938       False\n",
       "4    -0.110080  0.69793 -0.110080  0.30207       False\n",
       "...        ...      ...       ...      ...         ...\n",
       "9787  0.004676  0.54949  0.013002  0.43205        True\n",
       "9788 -0.027610  0.60748 -0.027610  0.33509        True\n",
       "9789 -0.238290  0.62708 -0.240360  0.17760        True\n",
       "9790  0.097188  0.75300  0.104280  0.24700        True\n",
       "9791  0.021416  0.48678  0.027253  0.51267        True\n",
       "\n",
       "[9792 rows x 5 columns]"
      ]
     },
     "execution_count": 258,
     "metadata": {},
     "output_type": "execute_result"
    }
   ],
   "source": [
    "df_new=df[['Attr1','Attr2','Attr7','Attr10','bankruptcy']]\n",
    "df_new.columns=['X1','X2','X7','X10','bankruptcy']\n",
    "df_new"
   ]
  },
  {
   "cell_type": "code",
   "execution_count": 232,
   "metadata": {},
   "outputs": [
    {
     "data": {
      "text/plain": [
       "X1            1\n",
       "X2            1\n",
       "X7            1\n",
       "X10           1\n",
       "bankruptcy    0\n",
       "dtype: int64"
      ]
     },
     "execution_count": 232,
     "metadata": {},
     "output_type": "execute_result"
    }
   ],
   "source": [
    "df_new.isnull().sum()"
   ]
  },
  {
   "cell_type": "markdown",
   "metadata": {},
   "source": [
    "## Fill Nan with mean"
   ]
  },
  {
   "cell_type": "code",
   "execution_count": 233,
   "metadata": {},
   "outputs": [
    {
     "data": {
      "text/plain": [
       "X1            0\n",
       "X2            0\n",
       "X7            0\n",
       "X10           0\n",
       "bankruptcy    0\n",
       "dtype: int64"
      ]
     },
     "execution_count": 233,
     "metadata": {},
     "output_type": "execute_result"
    }
   ],
   "source": [
    "fill_mean=lambda x:x.fillna(x.mean())\n",
    "df_new=df_new.apply(fill_mean)\n",
    "df_new.isnull().sum()"
   ]
  },
  {
   "cell_type": "markdown",
   "metadata": {},
   "source": [
    "## Mean and Std among all"
   ]
  },
  {
   "cell_type": "code",
   "execution_count": 257,
   "metadata": {},
   "outputs": [
    {
     "name": "stdout",
     "output_type": "stream",
     "text": [
      "mean among all:\n",
      " X1     0.043019\n",
      "X2     0.596404\n",
      "X7     0.059446\n",
      "X10    0.389040\n",
      "dtype: float64\n",
      "\n",
      "std among all:\n",
      " X1     0.359303\n",
      "X2     4.586887\n",
      "X7     0.533317\n",
      "X10    4.590064\n",
      "dtype: float64\n"
     ]
    }
   ],
   "source": [
    "mean_all=df_new.mean()\n",
    "std_all=df_new.std()\n",
    "print('mean among all:\\n',mean_all[0:4])\n",
    "print('\\nstd among all:\\n',std_all[0:4])"
   ]
  },
  {
   "cell_type": "markdown",
   "metadata": {},
   "source": [
    "## Mean and Std among bankrupted"
   ]
  },
  {
   "cell_type": "code",
   "execution_count": 235,
   "metadata": {
    "scrolled": true
   },
   "outputs": [
    {
     "name": "stdout",
     "output_type": "stream",
     "text": [
      "mean among bankrupted:\n",
      " X1    -0.068873\n",
      "X2     0.878355\n",
      "X7    -0.061538\n",
      "X10    0.103367\n",
      "dtype: float64\n",
      "\n",
      "std among bankrupted:\n",
      " X1     0.568076\n",
      "X2     1.945596\n",
      "X7     0.568432\n",
      "X10    1.946747\n",
      "dtype: float64\n"
     ]
    }
   ],
   "source": [
    "mean_bkrt=df_new[df_new['bankruptcy']==True].mean()\n",
    "std_bkrt=df_new[df_new['bankruptcy']==True].std()\n",
    "print('mean among bankrupted:\\n',mean_bkrt[0:4])\n",
    "print('\\nstd among bankrupted:\\n',std_bkrt[0:4])"
   ]
  },
  {
   "cell_type": "markdown",
   "metadata": {},
   "source": [
    "## Mean and Std among operating"
   ]
  },
  {
   "cell_type": "code",
   "execution_count": 240,
   "metadata": {},
   "outputs": [
    {
     "name": "stdout",
     "output_type": "stream",
     "text": [
      "mean among operating:\n",
      " X1     0.049231\n",
      "X2     0.580752\n",
      "X7     0.066162\n",
      "X10    0.404899\n",
      "dtype: float64\n",
      "\n",
      "std among operating:\n",
      " X1     0.343002\n",
      "X2     4.689694\n",
      "X7     0.530524\n",
      "X10    4.692934\n",
      "dtype: float64\n"
     ]
    }
   ],
   "source": [
    "mean_opr=df_new[df_new['bankruptcy']==False].mean()\n",
    "std_opr=df_new[df_new['bankruptcy']==False].std()\n",
    "print('mean among operating:\\n',mean_opr[0:4])\n",
    "print('\\nstd among operating:\\n',std_opr[0:4])"
   ]
  },
  {
   "cell_type": "markdown",
   "metadata": {},
   "source": [
    "## Companies have X1 values 1 std below the mean AND X10 values 1 std below the mean"
   ]
  },
  {
   "cell_type": "code",
   "execution_count": 255,
   "metadata": {},
   "outputs": [
    {
     "data": {
      "text/plain": [
       "15"
      ]
     },
     "execution_count": 255,
     "metadata": {},
     "output_type": "execute_result"
    }
   ],
   "source": [
    "mean_X1=mean_all[0]\n",
    "mean_X10=mean_all[3]\n",
    "std_X1=std_all[0]\n",
    "std_X10=std_all[3]\n",
    "num=sum((df_new['X1'] < (mean_X1-std_X1))& (df_new['X10'] < (mean_X10-std_X10)))\n",
    "num"
   ]
  },
  {
   "cell_type": "markdown",
   "metadata": {},
   "source": [
    "## Ratio of the bankrupted companies among the sub-groups above"
   ]
  },
  {
   "cell_type": "code",
   "execution_count": 250,
   "metadata": {},
   "outputs": [
    {
     "data": {
      "text/plain": [
       "0.2"
      ]
     },
     "execution_count": 250,
     "metadata": {},
     "output_type": "execute_result"
    }
   ],
   "source": [
    "num_bkrt_among_above_group=sum((df_new['X1'] < (mean_X1-std_X1))& (df_new['X10'] < (mean_X10-std_X10)) &df_new['bankruptcy']==True)\n",
    "ratio=num_bkrt_among_above_group/num\n",
    "ratio"
   ]
  }
 ],
 "metadata": {
  "kernelspec": {
   "display_name": "Python 3",
   "language": "python",
   "name": "python3"
  },
  "language_info": {
   "codemirror_mode": {
    "name": "ipython",
    "version": 3
   },
   "file_extension": ".py",
   "mimetype": "text/x-python",
   "name": "python",
   "nbconvert_exporter": "python",
   "pygments_lexer": "ipython3",
   "version": "3.6.8"
  }
 },
 "nbformat": 4,
 "nbformat_minor": 2
}
